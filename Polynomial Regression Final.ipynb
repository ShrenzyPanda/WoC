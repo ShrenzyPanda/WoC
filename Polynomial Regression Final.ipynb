{
 "cells": [
  {
   "cell_type": "code",
   "execution_count": 1,
   "id": "23183ee1",
   "metadata": {},
   "outputs": [],
   "source": [
    "import numpy as np\n",
    "import pandas as pd\n",
    "import matplotlib.pyplot as plt\n",
    "#Importing Libraries"
   ]
  },
  {
   "cell_type": "code",
   "execution_count": 2,
   "id": "570f497a",
   "metadata": {},
   "outputs": [],
   "source": [
    "Pol_Train = pd.read_csv(r'C:\\Users\\shres\\Desktop\\Datasets\\Polynomial_train.csv')\n",
    "Pol_Test = pd.read_csv(r'C:\\Users\\shres\\Desktop\\Datasets\\Polynomial_test.csv')\n",
    "Train = Pol_Train.to_numpy()\n",
    "Test = Pol_Test.to_numpy()\n",
    "#Reading and Conversion of CSV File to NumPy Array"
   ]
  },
  {
   "cell_type": "code",
   "execution_count": 3,
   "id": "96cad3e1",
   "metadata": {},
   "outputs": [
    {
     "name": "stdout",
     "output_type": "stream",
     "text": [
      "[[ 6.43715169e-01 -9.86655011e+00 -5.83601940e+00  3.07972927e+02]\n",
      " [-1.36644585e+00 -3.76194541e+00 -8.75616193e+00  1.36398375e+02]\n",
      " [-4.09026967e+00 -1.83621751e+00 -1.84606562e+00 -3.10724813e+02]\n",
      " ...\n",
      " [ 6.61675320e+00 -2.84728822e+00 -5.04040015e-01  6.63873656e+02]\n",
      " [ 3.55819907e+00  4.50752592e+00 -4.82367370e+00 -4.21004005e+02]\n",
      " [ 6.23430792e-01  8.86323404e+00 -3.23103970e+00 -6.99718682e+02]] \n",
      " (50000, 4)\n"
     ]
    }
   ],
   "source": [
    "print(Train,\"\\n\",Train.shape)"
   ]
  },
  {
   "cell_type": "code",
   "execution_count": 4,
   "id": "c3042db6",
   "metadata": {},
   "outputs": [
    {
     "name": "stdout",
     "output_type": "stream",
     "text": [
      "[[ 9.32207776e+00  4.13096456e-01  5.98473071e+00 -6.57669310e+02]\n",
      " [ 2.81196379e+00  6.14275187e+00  6.41923693e+00 -5.45362524e+02]\n",
      " [-2.66978441e+00  7.77509088e+00 -6.93190696e+00 -7.50441866e+01]\n",
      " ...\n",
      " [ 6.64099656e+00  6.86487708e+00  4.51168542e+00 -1.77164069e+03]\n",
      " [-6.26241442e+00  1.32320320e+00 -3.91774828e+00 -2.27469212e+01]\n",
      " [ 8.28979179e+00 -3.71540510e-01  2.09903937e+00 -6.48534458e+01]] \n",
      " (10000, 4)\n"
     ]
    }
   ],
   "source": [
    "print(Test,\"\\n\",Test.shape)"
   ]
  },
  {
   "cell_type": "code",
   "execution_count": 8,
   "id": "04ec14ff",
   "metadata": {},
   "outputs": [
    {
     "name": "stdout",
     "output_type": "stream",
     "text": [
      "[[ 0.64371517 -9.86655011 -5.8360194 ]\n",
      " [-1.36644585 -3.76194541 -8.75616193]\n",
      " [-4.09026967 -1.83621751 -1.84606562]\n",
      " ...\n",
      " [ 6.6167532  -2.84728822 -0.50404001]\n",
      " [ 3.55819907  4.50752592 -4.8236737 ]\n",
      " [ 0.62343079  8.86323404 -3.2310397 ]] \n",
      " (50000, 3) \n",
      " [[ 9.32207776  0.41309646  5.98473071]\n",
      " [ 2.81196379  6.14275187  6.41923693]\n",
      " [-2.66978441  7.77509088 -6.93190696]\n",
      " ...\n",
      " [ 6.64099656  6.86487708  4.51168542]\n",
      " [-6.26241442  1.3232032  -3.91774828]\n",
      " [ 8.28979179 -0.37154051  2.09903937]] \n",
      " (10000, 3)\n"
     ]
    }
   ],
   "source": [
    "X = Train[:,:3]\n",
    "X_Test1 = Test[:,:3]\n",
    "print(X,\"\\n\",X.shape,\"\\n\",X_Test1,\"\\n\",X_Test1.shape)\n",
    "#Extracting Training and Testing Input"
   ]
  },
  {
   "cell_type": "code",
   "execution_count": 9,
   "id": "ce61166e",
   "metadata": {},
   "outputs": [
    {
     "name": "stdout",
     "output_type": "stream",
     "text": [
      "[[ 307.9729269]\n",
      " [ 136.3983754]\n",
      " [-310.7248135]\n",
      " ...\n",
      " [ 663.8736555]\n",
      " [-421.0040045]\n",
      " [-699.7186817]] \n",
      " (50000, 1) \n",
      " [[ -657.6693095 ]\n",
      " [ -545.3625239 ]\n",
      " [  -75.04418664]\n",
      " ...\n",
      " [-1771.640694  ]\n",
      " [  -22.74692118]\n",
      " [  -64.85344575]] \n",
      " (10000, 1)\n"
     ]
    }
   ],
   "source": [
    "Y = np.vstack(Train[:,3])\n",
    "Y_True = np.vstack(Test[:,3])\n",
    "print(Y, \"\\n\",Y.shape,\"\\n\",Y_True,\"\\n\",Y_True.shape)\n",
    "#Extracting Training and Testing Output"
   ]
  },
  {
   "cell_type": "code",
   "execution_count": 10,
   "id": "82a65042",
   "metadata": {},
   "outputs": [],
   "source": [
    "def normalisation(A):    #Normalisation Function : Since data is varied and not close to each other\n",
    "    A_Mean = A.mean(axis=0)\n",
    "    Range = A.max(axis=0)-A.min(axis=0)\n",
    "    A_Scaled = (A-A_Mean)/Range\n",
    "    return A_Scaled"
   ]
  },
  {
   "cell_type": "code",
   "execution_count": 21,
   "id": "209590f2",
   "metadata": {},
   "outputs": [],
   "source": [
    "A = np.vstack(X[:,0])\n",
    "B = np.vstack(X[:,1])\n",
    "C = np.vstack(X[:,2])\n",
    "#Extracting Unique Columns of Training Matrix and Vectorizing Them"
   ]
  },
  {
   "cell_type": "code",
   "execution_count": 22,
   "id": "11504bc4",
   "metadata": {},
   "outputs": [
    {
     "name": "stdout",
     "output_type": "stream",
     "text": [
      "[[ 0.64371517]\n",
      " [-1.36644585]\n",
      " [-4.09026967]\n",
      " ...\n",
      " [ 6.6167532 ]\n",
      " [ 3.55819907]\n",
      " [ 0.62343079]] [[-9.86655011]\n",
      " [-3.76194541]\n",
      " [-1.83621751]\n",
      " ...\n",
      " [-2.84728822]\n",
      " [ 4.50752592]\n",
      " [ 8.86323404]] [[-5.8360194 ]\n",
      " [-8.75616193]\n",
      " [-1.84606562]\n",
      " ...\n",
      " [-0.50404001]\n",
      " [-4.8236737 ]\n",
      " [-3.2310397 ]]\n"
     ]
    }
   ],
   "source": [
    "print(A,B,C)"
   ]
  },
  {
   "cell_type": "code",
   "execution_count": 13,
   "id": "bfe12d65",
   "metadata": {},
   "outputs": [],
   "source": [
    "def degree2(A,B):   #Degree 2 Terms Evaluation\n",
    "    R = A*B\n",
    "    return R\n",
    "def degree3(A,B,C): #Degree 3 Terms Evaluation\n",
    "    R = A*B*C\n",
    "    return R"
   ]
  },
  {
   "cell_type": "code",
   "execution_count": 14,
   "id": "e14eef25",
   "metadata": {},
   "outputs": [],
   "source": [
    "D21=degree2(A,A)\n",
    "D22=degree2(B,B)\n",
    "D23=degree2(C,C)\n",
    "D24=degree2(A,B)\n",
    "D25=degree2(B,C)\n",
    "D26=degree2(C,A)"
   ]
  },
  {
   "cell_type": "code",
   "execution_count": 15,
   "id": "01f798be",
   "metadata": {},
   "outputs": [],
   "source": [
    "D31=degree3(A,A,A)\n",
    "D32=degree3(B,B,B)\n",
    "D33=degree3(C,C,C)\n",
    "D34=degree3(A,A,B)\n",
    "D35=degree3(A,A,C)\n",
    "D36=degree3(B,B,A)\n",
    "D37=degree3(B,B,C)\n",
    "D38=degree3(C,C,A)\n",
    "D39=degree3(C,C,B)\n",
    "D310=degree3(A,B,C)"
   ]
  },
  {
   "cell_type": "code",
   "execution_count": 17,
   "id": "f485a902",
   "metadata": {},
   "outputs": [],
   "source": [
    "X2 = np.concatenate((X,D21,D22,D23,D24,D25,D26),axis=1)\n",
    "#Adding the new parameters of degree 2 in the Training Matrix"
   ]
  },
  {
   "cell_type": "code",
   "execution_count": 18,
   "id": "ff08b64f",
   "metadata": {},
   "outputs": [],
   "source": [
    "X3 = np.concatenate((X2,D31,D32,D33,D34,D35,D36,D37,D38,D39,D310),axis=1) \n",
    " #Adding the new parameters of degree 3 in the Training Matrix"
   ]
  },
  {
   "cell_type": "code",
   "execution_count": 19,
   "id": "0e5e3a4c",
   "metadata": {},
   "outputs": [
    {
     "name": "stdout",
     "output_type": "stream",
     "text": [
      "[[ 0.64371517 -9.86655011 -5.8360194 ]\n",
      " [-1.36644585 -3.76194541 -8.75616193]\n",
      " [-4.09026967 -1.83621751 -1.84606562]\n",
      " ...\n",
      " [ 6.6167532  -2.84728822 -0.50404001]\n",
      " [ 3.55819907  4.50752592 -4.8236737 ]\n",
      " [ 0.62343079  8.86323404 -3.2310397 ]] \n",
      " (50000, 3) \n",
      " [[  0.64371517  -9.86655011  -5.8360194  ...  -6.35124797  57.58137788\n",
      "   -3.75673422]\n",
      " [ -1.36644585  -3.76194541  -8.75616193 ...   5.14049469  32.94020319\n",
      "   11.96482113]\n",
      " [ -4.09026967  -1.83621751  -1.84606562 ...   7.51062479   3.38977801\n",
      "    7.55090619]\n",
      " ...\n",
      " [  6.6167532   -2.84728822  -0.50404001 ... -18.83980346   1.4351472\n",
      "   -3.33510838]\n",
      " [  3.55819907   4.50752592  -4.8236737  ...  16.03867453 -21.74283426\n",
      "  -17.16359126]\n",
      " [  0.62343079   8.86323404  -3.2310397  ...   5.52561302 -28.63746107\n",
      "   -2.01432964]] \n",
      " (50000, 9) \n",
      " [[   0.64371517   -9.86655011   -5.8360194  ...   21.92437377\n",
      "  -336.04603849   37.06600639]\n",
      " [  -1.36644585   -3.76194541   -8.75616193 ... -104.76591131\n",
      "  -288.42975325  -45.01100391]\n",
      " [  -4.09026967   -1.83621751   -1.84606562 ...  -13.93946827\n",
      "    -6.25775263  -13.86510618]\n",
      " ...\n",
      " [   6.6167532    -2.84728822   -0.50404001 ...    1.68102808\n",
      "    -0.72337162    9.49601482]\n",
      " [   3.55819907    4.50752592   -4.8236737  ...   82.7915638\n",
      "   104.88033783  -77.36533256]\n",
      " [   0.62343079    8.86323404   -3.2310397  ...    6.50837904\n",
      "    92.52877366  -17.85347504]] \n",
      " (50000, 19)\n"
     ]
    }
   ],
   "source": [
    "print(X,\"\\n\",X.shape,\"\\n\",X2,\"\\n\",X2.shape,\"\\n\",X3,\"\\n\",X3.shape)"
   ]
  },
  {
   "cell_type": "code",
   "execution_count": 20,
   "id": "dc235166",
   "metadata": {},
   "outputs": [],
   "source": [
    "P = np.vstack(X_Test1[:,0])\n",
    "Q = np.vstack(X_Test1[:,1])\n",
    "R = np.vstack(X_Test1[:,2])\n",
    "#Extracting Unique Columns of Testing Matrix and Vectorizing Them"
   ]
  },
  {
   "cell_type": "code",
   "execution_count": 23,
   "id": "a2c7f212",
   "metadata": {},
   "outputs": [],
   "source": [
    "E21=degree2(P,P)\n",
    "E22=degree2(Q,Q)\n",
    "E23=degree2(R,R)\n",
    "E24=degree2(P,Q)\n",
    "E25=degree2(Q,R)\n",
    "E26=degree2(R,P)"
   ]
  },
  {
   "cell_type": "code",
   "execution_count": 24,
   "id": "b2fe26de",
   "metadata": {},
   "outputs": [],
   "source": [
    "E31=degree3(P,P,P)\n",
    "E32=degree3(Q,Q,Q)\n",
    "E33=degree3(R,R,R)\n",
    "E34=degree3(P,P,Q)\n",
    "E35=degree3(P,P,R)\n",
    "E36=degree3(Q,Q,P)\n",
    "E37=degree3(Q,Q,R)\n",
    "E38=degree3(R,R,P)\n",
    "E39=degree3(R,R,Q)\n",
    "E310=degree3(P,Q,R)"
   ]
  },
  {
   "cell_type": "code",
   "execution_count": 25,
   "id": "68756065",
   "metadata": {},
   "outputs": [],
   "source": [
    "X_Test2 = np.concatenate((X_Test1,E21,E22,E23,E24,E25,E26),axis=1)\n",
    "#Adding the new parameters of degree 2 in the Testing Matrix"
   ]
  },
  {
   "cell_type": "code",
   "execution_count": 29,
   "id": "9de609b7",
   "metadata": {},
   "outputs": [],
   "source": [
    "X_Test3 = np.concatenate((X_Test2,E31,E32,E33,E34,E35,E36,E37,E38,E39,E310),axis=1)\n",
    "#Adding the new parameters of degree 3 in the Testing Matrix"
   ]
  },
  {
   "cell_type": "code",
   "execution_count": 30,
   "id": "d3b33914",
   "metadata": {},
   "outputs": [
    {
     "name": "stdout",
     "output_type": "stream",
     "text": [
      "[[ 9.32207776  0.41309646  5.98473071]\n",
      " [ 2.81196379  6.14275187  6.41923693]\n",
      " [-2.66978441  7.77509088 -6.93190696]\n",
      " ...\n",
      " [ 6.64099656  6.86487708  4.51168542]\n",
      " [-6.26241442  1.3232032  -3.91774828]\n",
      " [ 8.28979179 -0.37154051  2.09903937]] \n",
      " (10000, 3) \n",
      " [[  9.32207776   0.41309646   5.98473071 ...   3.85091729   2.47227105\n",
      "   55.79012505]\n",
      " [  2.81196379   6.14275187   6.41923693 ...  17.2731958   39.43177969\n",
      "   18.05066179]\n",
      " [ -2.66978441   7.77509088  -6.93190696 ... -20.75781641 -53.89620658\n",
      "   18.50669711]\n",
      " ...\n",
      " [  6.64099656   6.86487708   4.51168542 ...  45.58962507  30.97216585\n",
      "   29.96208736]\n",
      " [ -6.26241442   1.3232032   -3.91774828 ...  -8.2864468   -5.18397707\n",
      "   24.53456333]\n",
      " [  8.28979179  -0.37154051   2.09903937 ...  -3.07999347  -0.77987816\n",
      "   17.40059936]] \n",
      " (10000, 9) \n",
      " [[ 9.32207776e+00  4.13096456e-01  5.98473071e+00 ...  3.33888875e+02\n",
      "   1.47958764e+01  2.30467029e+01]\n",
      " [ 2.81196379e+00  6.14275187e+00  6.41923693e+00 ...  1.15871475e+02\n",
      "   2.53121937e+02  1.10880736e+02]\n",
      " [-2.66978441e+00  7.77509088e+00 -6.93190696e+00 ... -1.28286702e+02\n",
      "   3.73603489e+02  1.43891252e+02]\n",
      " ...\n",
      " [ 6.64099656e+00  6.86487708e+00  4.51168542e+00 ...  1.35179513e+02\n",
      "   1.39736669e+02  2.05686047e+02]\n",
      " [-6.26241442e+00  1.32320320e+00 -3.91774828e+00 ... -9.61202433e+01\n",
      "   2.03095172e+01  3.24642127e+01]\n",
      " [ 8.28979179e+00 -3.71540510e-01  2.09903937e+00 ...  3.65245431e+01\n",
      "  -1.63699496e+00 -6.46502756e+00]] \n",
      " (10000, 19)\n"
     ]
    }
   ],
   "source": [
    "print(X_Test1,\"\\n\",X_Test1.shape,\"\\n\",X_Test2,\"\\n\",X_Test2.shape,\"\\n\",X_Test3,\"\\n\",X_Test3.shape)"
   ]
  },
  {
   "cell_type": "code",
   "execution_count": 31,
   "id": "c1e31991",
   "metadata": {},
   "outputs": [],
   "source": [
    "X_1 = normalisation(X)\n",
    "X_2 = normalisation(X2)\n",
    "X_3 = normalisation(X3)\n",
    "X_T_1 = normalisation(X_Test1)\n",
    "X_T_2 = normalisation(X_Test2)\n",
    "X_T_3 = normalisation(X_Test3)"
   ]
  },
  {
   "cell_type": "code",
   "execution_count": 34,
   "id": "4cfbbed0",
   "metadata": {},
   "outputs": [],
   "source": [
    "X0 = np.vstack(np.ones(X.shape[0]))\n",
    "#Creating Bias Vector"
   ]
  },
  {
   "cell_type": "code",
   "execution_count": 36,
   "id": "cdce53b6",
   "metadata": {},
   "outputs": [
    {
     "name": "stdout",
     "output_type": "stream",
     "text": [
      "[[ 1.          0.01328649 -0.44551069 -0.29151393]\n",
      " [ 1.         -0.03049626 -0.16883663 -0.43708175]\n",
      " [ 1.         -0.08982311 -0.08155842 -0.09261648]\n",
      " ...\n",
      " [ 1.          0.14338356 -0.12738236 -0.02571709]\n",
      " [ 1.          0.07676605  0.20595394 -0.24104894]\n",
      " [ 1.          0.01284468  0.40336418 -0.16165683]] \n",
      " (50000, 4) \n",
      " [[ 1.          0.01328649 -0.44551069 ... -0.01925251  0.28916446\n",
      "  -0.0116581 ]\n",
      " [ 1.         -0.03049626 -0.16883663 ...  0.0177072   0.16521831\n",
      "   0.03839036]\n",
      " [ 1.         -0.08982311 -0.08155842 ...  0.02533     0.01657841\n",
      "   0.02433897]\n",
      " ...\n",
      " [ 1.          0.14338356 -0.12738236 ... -0.05941817  0.00674654\n",
      "  -0.01031589]\n",
      " [ 1.          0.07676605  0.20595394 ...  0.05275789 -0.10983969\n",
      "  -0.05433789]\n",
      " [ 1.          0.01284468  0.40336418 ...  0.01894581 -0.14451996\n",
      "  -0.00611128]] \n",
      " (50000, 10) \n",
      " [[ 1.00000000e+00  1.32864914e-02 -4.45510694e-01 ...  8.84182565e-03\n",
      "  -1.69197480e-01  1.76114035e-02]\n",
      " [ 1.00000000e+00 -3.04962633e-02 -1.68836629e-01 ... -4.67282073e-02\n",
      "  -1.45195591e-01 -2.00653972e-02]\n",
      " [ 1.00000000e+00 -8.98231076e-02 -8.15584196e-02 ... -6.88909548e-03\n",
      "  -2.96145409e-03 -5.76811983e-03]\n",
      " ...\n",
      " [ 1.00000000e+00  1.43383561e-01 -1.27382360e-01 ... -3.74928021e-05\n",
      "  -1.71744609e-04  4.95561752e-03]\n",
      " [ 1.00000000e+00  7.67660496e-02  2.05953937e-01 ...  3.55399403e-02\n",
      "   5.30598035e-02 -3.49173952e-02]\n",
      " [ 1.00000000e+00  1.28446830e-02  4.03364176e-01 ...  2.07992332e-03\n",
      "   4.68337639e-02 -7.59894893e-03]] \n",
      " (50000, 20)\n"
     ]
    }
   ],
   "source": [
    "X_D1 = np.append(X0,X_1,axis=1)\n",
    "X_D2 = np.append(X0,X_2,axis=1)\n",
    "X_D3 = np.append(X0,X_3,axis=1)\n",
    "print(X_D1,\"\\n\",X_D1.shape,\"\\n\",X_D2,\"\\n\",X_D2.shape,\"\\n\",X_D3,\"\\n\",X_D3.shape)\n",
    "#Adding the bias in normalized Testing Matrix"
   ]
  },
  {
   "cell_type": "code",
   "execution_count": 37,
   "id": "01bb4caf",
   "metadata": {},
   "outputs": [],
   "source": [
    "XT = np.vstack(np.ones(X_Test2.shape[0]))"
   ]
  },
  {
   "cell_type": "code",
   "execution_count": 38,
   "id": "5bc18436",
   "metadata": {},
   "outputs": [
    {
     "name": "stdout",
     "output_type": "stream",
     "text": [
      "[[ 1.          0.46246228  0.01651602  0.29926494]\n",
      " [ 1.          0.13694642  0.30308512  0.32099505]\n",
      " [ 1.         -0.13714954  0.38472666 -0.34670937]\n",
      " ...\n",
      " [ 1.          0.32840404  0.33920226  0.22559644]\n",
      " [ 1.         -0.31678665  0.06203507 -0.1959682 ]\n",
      " [ 1.          0.41084637 -0.02272765  0.10493753]] \n",
      " (10000, 4) \n",
      " [[ 1.          0.46246228  0.01651602 ...  0.02311571  0.01198382\n",
      "   0.28457565]\n",
      " [ 1.          0.13694642  0.30308512 ...  0.0916272   0.20098783\n",
      "   0.09188465]\n",
      " [ 1.         -0.13714954  0.38472666 ... -0.10249493 -0.27627404\n",
      "   0.09421309]\n",
      " ...\n",
      " [ 1.          0.32840404  0.33920226 ...  0.23616308  0.15772695\n",
      "   0.15270228]\n",
      " [ 1.         -0.31678665  0.06203507 ... -0.03883717 -0.0271688\n",
      "   0.1249903 ]\n",
      " [ 1.          0.41084637 -0.02272765 ... -0.01226181 -0.00464707\n",
      "   0.08856555]] \n",
      " (10000, 10) \n",
      " [[ 1.          0.46246228  0.01651602 ...  0.17034113  0.00714614\n",
      "   0.01370846]\n",
      " [ 1.          0.13694642  0.30308512 ...  0.05848526  0.12834893\n",
      "   0.06173161]\n",
      " [ 1.         -0.13714954  0.38472666 ... -0.06678238  0.18962087\n",
      "   0.07978006]\n",
      " ...\n",
      " [ 1.          0.32840404  0.33920226 ...  0.06839143  0.07068587\n",
      "   0.11356629]\n",
      " [ 1.         -0.31678665  0.06203507 ... -0.05027907  0.00995015\n",
      "   0.01885747]\n",
      " [ 1.          0.41084637 -0.02272765 ...  0.01777558 -0.00121094\n",
      "  -0.00242704]] \n",
      " (10000, 20)\n"
     ]
    }
   ],
   "source": [
    "X_T1 = np.append(XT,X_T_1,axis=1)\n",
    "X_T2 = np.append(XT,X_T_2,axis=1)\n",
    "X_T3 = np.append(XT,X_T_3,axis=1)\n",
    "print(X_T1,\"\\n\",X_T1.shape,\"\\n\",X_T2,\"\\n\",X_T2.shape,\"\\n\",X_T3,\"\\n\",X_T3.shape)\n",
    "#Adding the bias in normalized Testing Matrix"
   ]
  },
  {
   "cell_type": "code",
   "execution_count": 39,
   "id": "d27f4b5a",
   "metadata": {},
   "outputs": [],
   "source": [
    "def polynomial_regression(iterations, learning_rate, X, Y, X_Test): #Polynomial Regression Function\n",
    "  theta = np.vstack(np.zeros(X.shape[1])) #Initializing Parameters\n",
    "  m = len(X)\n",
    "  for p in range(iterations) :\n",
    "    hyp = np.dot(X,theta) #Hypothesis \n",
    "    cost = (np.sum((hyp-Y)**2))/(2*m) #Cost Function\n",
    "    grad = np.dot(X.T,(hyp-Y)) #Gradient\n",
    "    theta = theta - np.dot((learning_rate/m), grad) #Parameter Simultaneous Updation\n",
    "    plt.scatter(p,cost) #Plotting Gradient Descent\n",
    "  Y_Test = np.dot(X_Test,theta)\n",
    "  print(cost)\n",
    "  return Y_Test"
   ]
  },
  {
   "cell_type": "code",
   "execution_count": 71,
   "id": "9f525985",
   "metadata": {},
   "outputs": [],
   "source": [
    "def MSE(A,B):\n",
    "    M = A.shape[0]\n",
    "    Diff = (A-B)**2\n",
    "    R = (np.sum(Diff))/(2*M)\n",
    "    return R"
   ]
  },
  {
   "cell_type": "code",
   "execution_count": 59,
   "id": "1a08295d",
   "metadata": {},
   "outputs": [
    {
     "name": "stdout",
     "output_type": "stream",
     "text": [
      "62.340740826528695\n"
     ]
    },
    {
     "data": {
      "text/plain": [
       "array([[ -505.5747523 ],\n",
       "       [-1330.41389532],\n",
       "       [ -221.99586193],\n",
       "       ...,\n",
       "       [-2786.79053583],\n",
       "       [   27.13760484],\n",
       "       [  330.56250822]])"
      ]
     },
     "execution_count": 59,
     "metadata": {},
     "output_type": "execute_result"
    },
    {
     "data": {
      "image/png": "[encoded data removed]",
      "text/plain": [
       "<Figure size 432x288 with 1 Axes>"
      ]
     },
     "metadata": {
      "needs_background": "light"
     },
     "output_type": "display_data"
    }
   ],
   "source": [
    "Y_P3 = polynomial_regression(2000, 1.99, X_D3, Y, X_T3)\n",
    "Y_P3 #Predicting output(scaled) for X_Test\n",
    "#Diverges at 2, optimum between 1.99 and 2"
   ]
  },
  {
   "cell_type": "code",
   "execution_count": 70,
   "id": "911d69da",
   "metadata": {},
   "outputs": [
    {
     "data": {
      "text/plain": [
       "array([[ -657.6693095 ],\n",
       "       [ -545.3625239 ],\n",
       "       [  -75.04418664],\n",
       "       ...,\n",
       "       [-1771.640694  ],\n",
       "       [  -22.74692118],\n",
       "       [  -64.85344575]])"
      ]
     },
     "execution_count": 70,
     "metadata": {},
     "output_type": "execute_result"
    }
   ],
   "source": [
    "Y_True"
   ]
  },
  {
   "cell_type": "code",
   "execution_count": 72,
   "id": "a926bd86",
   "metadata": {},
   "outputs": [
    {
     "data": {
      "text/plain": [
       "301675.1939167583"
      ]
     },
     "execution_count": 72,
     "metadata": {},
     "output_type": "execute_result"
    }
   ],
   "source": [
    "MSE(Y_P3,Y_True)"
   ]
  },
  {
   "cell_type": "code",
   "execution_count": 68,
   "id": "6bdb80bd",
   "metadata": {},
   "outputs": [
    {
     "name": "stdout",
     "output_type": "stream",
     "text": [
      "71.69530953845312\n"
     ]
    },
    {
     "data": {
      "text/plain": [
       "array([[ -549.17496032],\n",
       "       [-1331.76661255],\n",
       "       [ -222.49263892],\n",
       "       ...,\n",
       "       [-2809.83163912],\n",
       "       [   39.43373336],\n",
       "       [  294.2668821 ]])"
      ]
     },
     "execution_count": 68,
     "metadata": {},
     "output_type": "execute_result"
    },
    {
     "data": {
      "image/png": "[encoded data removed]",
      "text/plain": [
       "<Figure size 432x288 with 1 Axes>"
      ]
     },
     "metadata": {
      "needs_background": "light"
     },
     "output_type": "display_data"
    }
   ],
   "source": [
    "Y_P2 = polynomial_regression(2000,1.99,X_D2,Y,X_T2)\n",
    "Y_P2"
   ]
  },
  {
   "cell_type": "code",
   "execution_count": 73,
   "id": "19e96212",
   "metadata": {},
   "outputs": [
    {
     "data": {
      "text/plain": [
       "301882.2807949841"
      ]
     },
     "execution_count": 73,
     "metadata": {},
     "output_type": "execute_result"
    }
   ],
   "source": [
    "MSE(Y_P2,Y_True)"
   ]
  },
  {
   "cell_type": "code",
   "execution_count": null,
   "id": "3f777381",
   "metadata": {},
   "outputs": [],
   "source": []
  }
 ],
 "metadata": {
  "kernelspec": {
   "display_name": "Python 3 (ipykernel)",
   "language": "python",
   "name": "python3"
  },
  "language_info": {
   "codemirror_mode": {
    "name": "ipython",
    "version": 3
   },
   "file_extension": ".py",
   "mimetype": "text/x-python",
   "name": "python",
   "nbconvert_exporter": "python",
   "pygments_lexer": "ipython3",
   "version": "3.10.1"
  }
 },
 "nbformat": 4,
 "nbformat_minor": 5
}
